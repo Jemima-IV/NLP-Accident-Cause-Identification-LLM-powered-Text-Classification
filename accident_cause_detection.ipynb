{
 "cells": [
  {
   "cell_type": "markdown",
   "metadata": {},
   "source": [
    "### 1.Data Preprocessing & Exploration"
   ]
  },
  {
   "cell_type": "markdown",
   "metadata": {},
   "source": [
    "#### Import Libraries"
   ]
  },
  {
   "cell_type": "code",
   "execution_count": 1,
   "metadata": {},
   "outputs": [
    {
     "name": "stdout",
     "output_type": "stream",
     "text": [
      "WARNING:tensorflow:From c:\\Users\\dssm3\\anaconda3\\Lib\\site-packages\\tf_keras\\src\\losses.py:2976: The name tf.losses.sparse_softmax_cross_entropy is deprecated. Please use tf.compat.v1.losses.sparse_softmax_cross_entropy instead.\n",
      "\n"
     ]
    }
   ],
   "source": [
    "import re\n",
    "import nltk\n",
    "import torch\n",
    "import pickle\n",
    "import numpy as np\n",
    "import pandas as pd\n",
    "import seaborn as sns\n",
    "import torch.nn as nn\n",
    "import tensorflow as tf\n",
    "from sklearn.svm import SVC\n",
    "import torch.optim as optim\n",
    "from datasets import Dataset\n",
    "import gensim.downloader as api\n",
    "import matplotlib.pyplot as plt\n",
    "from nltk.corpus import stopwords\n",
    "from nltk.tokenize import word_tokenize\n",
    "from imblearn.over_sampling import SMOTE\n",
    "from sklearn.preprocessing import LabelEncoder\n",
    "from concurrent.futures import ThreadPoolExecutor\n",
    "from sklearn.linear_model import LogisticRegression\n",
    "from sklearn.ensemble import RandomForestClassifier\n",
    "from torch.utils.data import DataLoader, TensorDataset\n",
    "from nltk.stem import PorterStemmer, WordNetLemmatizer\n",
    "from sklearn.feature_extraction.text import TfidfVectorizer\n",
    "from sklearn.utils.class_weight import compute_class_weight\n",
    "from sklearn.model_selection import train_test_split,cross_val_score\n",
    "from sklearn.metrics import accuracy_score, f1_score, classification_report\n",
    "from transformers import BertTokenizer, TFBertForSequenceClassification, Trainer, TrainingArguments,BertModel"
   ]
  },
  {
   "cell_type": "code",
   "execution_count": 2,
   "metadata": {},
   "outputs": [
    {
     "name": "stderr",
     "output_type": "stream",
     "text": [
      "[nltk_data] Downloading package punkt to\n",
      "[nltk_data]     C:\\Users\\dssm3\\AppData\\Roaming\\nltk_data...\n",
      "[nltk_data]   Package punkt is already up-to-date!\n",
      "[nltk_data] Downloading package wordnet to\n",
      "[nltk_data]     C:\\Users\\dssm3\\AppData\\Roaming\\nltk_data...\n",
      "[nltk_data]   Package wordnet is already up-to-date!\n",
      "[nltk_data] Downloading package stopwords to\n",
      "[nltk_data]     C:\\Users\\dssm3\\AppData\\Roaming\\nltk_data...\n",
      "[nltk_data]   Package stopwords is already up-to-date!\n"
     ]
    },
    {
     "data": {
      "text/plain": [
       "True"
      ]
     },
     "execution_count": 2,
     "metadata": {},
     "output_type": "execute_result"
    }
   ],
   "source": [
    "nltk.download('punkt')\n",
    "nltk.download('wordnet')\n",
    "nltk.download('stopwords')"
   ]
  },
  {
   "cell_type": "markdown",
   "metadata": {},
   "source": [
    "#### Load & Inspect the Dataset"
   ]
  },
  {
   "cell_type": "markdown",
   "metadata": {},
   "source": [
    "##### Load the dataset"
   ]
  },
  {
   "cell_type": "code",
   "execution_count": 3,
   "metadata": {},
   "outputs": [
    {
     "data": {
      "text/html": [
       "<div>\n",
       "<style scoped>\n",
       "    .dataframe tbody tr th:only-of-type {\n",
       "        vertical-align: middle;\n",
       "    }\n",
       "\n",
       "    .dataframe tbody tr th {\n",
       "        vertical-align: top;\n",
       "    }\n",
       "\n",
       "    .dataframe thead th {\n",
       "        text-align: right;\n",
       "    }\n",
       "</style>\n",
       "<table border=\"1\" class=\"dataframe\">\n",
       "  <thead>\n",
       "    <tr style=\"text-align: right;\">\n",
       "      <th></th>\n",
       "      <th>Accident Report</th>\n",
       "      <th>Primary Cause</th>\n",
       "      <th>Secondary Cause</th>\n",
       "      <th>Risk Factor</th>\n",
       "    </tr>\n",
       "  </thead>\n",
       "  <tbody>\n",
       "    <tr>\n",
       "      <th>0</th>\n",
       "      <td>On 22 Jan 2024, at 06:36 AM, a auto-rickshaw c...</td>\n",
       "      <td>Drunk Driving</td>\n",
       "      <td>NaN</td>\n",
       "      <td>High</td>\n",
       "    </tr>\n",
       "    <tr>\n",
       "      <th>1</th>\n",
       "      <td>On 01 Jan 2024, at 06:23 PM, a two-wheeler col...</td>\n",
       "      <td>Weather Issues</td>\n",
       "      <td>Road Conditions</td>\n",
       "      <td>Moderate</td>\n",
       "    </tr>\n",
       "    <tr>\n",
       "      <th>2</th>\n",
       "      <td>On 08 Jan 2024, at 03:02 AM, a two-wheeler col...</td>\n",
       "      <td>Weather Issues</td>\n",
       "      <td>Seatbelt Violation</td>\n",
       "      <td>Moderate</td>\n",
       "    </tr>\n",
       "    <tr>\n",
       "      <th>3</th>\n",
       "      <td>On 25 Feb 2024, at 12:10 AM, a car collided wi...</td>\n",
       "      <td>Rash Driving</td>\n",
       "      <td>NaN</td>\n",
       "      <td>High</td>\n",
       "    </tr>\n",
       "    <tr>\n",
       "      <th>4</th>\n",
       "      <td>On 23 Jan 2024, at 08:58 AM, a truck collided ...</td>\n",
       "      <td>Seatbelt Violation</td>\n",
       "      <td>Signal Violation</td>\n",
       "      <td>High</td>\n",
       "    </tr>\n",
       "  </tbody>\n",
       "</table>\n",
       "</div>"
      ],
      "text/plain": [
       "                                     Accident Report       Primary Cause  \\\n",
       "0  On 22 Jan 2024, at 06:36 AM, a auto-rickshaw c...       Drunk Driving   \n",
       "1  On 01 Jan 2024, at 06:23 PM, a two-wheeler col...      Weather Issues   \n",
       "2  On 08 Jan 2024, at 03:02 AM, a two-wheeler col...      Weather Issues   \n",
       "3  On 25 Feb 2024, at 12:10 AM, a car collided wi...        Rash Driving   \n",
       "4  On 23 Jan 2024, at 08:58 AM, a truck collided ...  Seatbelt Violation   \n",
       "\n",
       "      Secondary Cause Risk Factor  \n",
       "0                 NaN        High  \n",
       "1     Road Conditions    Moderate  \n",
       "2  Seatbelt Violation    Moderate  \n",
       "3                 NaN        High  \n",
       "4    Signal Violation        High  "
      ]
     },
     "execution_count": 3,
     "metadata": {},
     "output_type": "execute_result"
    }
   ],
   "source": [
    "df = pd.read_csv(\"accident_dataset.csv\") # load dataset\n",
    "data=df.copy()                           # making copy of data set\n",
    "df.head()                                # printing first 5 entries of data set"
   ]
  },
  {
   "cell_type": "markdown",
   "metadata": {},
   "source": [
    "##### Inspect the Dataset"
   ]
  },
  {
   "cell_type": "code",
   "execution_count": 4,
   "metadata": {},
   "outputs": [
    {
     "name": "stdout",
     "output_type": "stream",
     "text": [
      "Dataset Info:\n",
      "<class 'pandas.core.frame.DataFrame'>\n",
      "RangeIndex: 10000 entries, 0 to 9999\n",
      "Data columns (total 4 columns):\n",
      " #   Column           Non-Null Count  Dtype \n",
      "---  ------           --------------  ----- \n",
      " 0   Accident Report  10000 non-null  object\n",
      " 1   Primary Cause    10000 non-null  object\n",
      " 2   Secondary Cause  5043 non-null   object\n",
      " 3   Risk Factor      10000 non-null  object\n",
      "dtypes: object(4)\n",
      "memory usage: 312.6+ KB\n",
      "None\n"
     ]
    }
   ],
   "source": [
    "# Display basic information about the dataset\n",
    "print(\"Dataset Info:\")\n",
    "print(df.info())"
   ]
  },
  {
   "cell_type": "code",
   "execution_count": 5,
   "metadata": {},
   "outputs": [
    {
     "name": "stdout",
     "output_type": "stream",
     "text": [
      "\n",
      "Missing Values:\n",
      "Accident Report       0\n",
      "Primary Cause         0\n",
      "Secondary Cause    4957\n",
      "Risk Factor           0\n",
      "dtype: int64\n"
     ]
    }
   ],
   "source": [
    "# Check for missing values\n",
    "print(\"\\nMissing Values:\")\n",
    "print(df.isnull().sum())"
   ]
  },
  {
   "cell_type": "code",
   "execution_count": 6,
   "metadata": {},
   "outputs": [
    {
     "name": "stdout",
     "output_type": "stream",
     "text": [
      "\n",
      "Number of duplicate rows: 0\n"
     ]
    }
   ],
   "source": [
    "# Check for duplicate entries\n",
    "duplicates = df.duplicated().sum()\n",
    "print(f\"\\nNumber of duplicate rows: {duplicates}\")"
   ]
  },
  {
   "cell_type": "code",
   "execution_count": 7,
   "metadata": {},
   "outputs": [
    {
     "name": "stdout",
     "output_type": "stream",
     "text": [
      "\n",
      "Dataset Summary Statistics:\n",
      "                                          Accident Report     Primary Cause  \\\n",
      "count                                               10000             10000   \n",
      "unique                                              10000                 8   \n",
      "top     On 22 Jan 2024, at 06:36 AM, a auto-rickshaw c...  Signal Violation   \n",
      "freq                                                    1              1312   \n",
      "\n",
      "         Secondary Cause Risk Factor  \n",
      "count               5043       10000  \n",
      "unique                 8           2  \n",
      "top     Helmet Violation    Moderate  \n",
      "freq                 662        6999  \n"
     ]
    }
   ],
   "source": [
    "# Display basic statistics\n",
    "print(\"\\nDataset Summary Statistics:\")\n",
    "print(df.describe())"
   ]
  },
  {
   "cell_type": "markdown",
   "metadata": {},
   "source": [
    "##### Exploratory Data Analysis (EDA)"
   ]
  },
  {
   "cell_type": "code",
   "execution_count": 8,
   "metadata": {},
   "outputs": [
    {
     "name": "stderr",
     "output_type": "stream",
     "text": [
      "C:\\Users\\dssm3\\AppData\\Local\\Temp\\ipykernel_2956\\3168283102.py:3: FutureWarning: \n",
      "\n",
      "Passing `palette` without assigning `hue` is deprecated and will be removed in v0.14.0. Assign the `y` variable to `hue` and set `legend=False` for the same effect.\n",
      "\n",
      "  sns.countplot(y=df[\"Primary Cause\"], order=df[\"Primary Cause\"].value_counts().index, palette=\"viridis\")\n"
     ]
    },
    {
     "data": {
      "image/png": "[encoded data removed]",
      "text/plain": [
       "<Figure size 1000x600 with 1 Axes>"
      ]
     },
     "metadata": {},
     "output_type": "display_data"
    },
    {
     "name": "stderr",
     "output_type": "stream",
     "text": [
      "C:\\Users\\dssm3\\AppData\\Local\\Temp\\ipykernel_2956\\3168283102.py:10: FutureWarning: \n",
      "\n",
      "Passing `palette` without assigning `hue` is deprecated and will be removed in v0.14.0. Assign the `y` variable to `hue` and set `legend=False` for the same effect.\n",
      "\n",
      "  sns.countplot(y=df[\"Secondary Cause\"], order=df[\"Secondary Cause\"].value_counts().index, palette=\"viridis\")\n"
     ]
    },
    {
     "data": {
      "image/png": "[encoded data removed]",
      "text/plain": [
       "<Figure size 1000x600 with 1 Axes>"
      ]
     },
     "metadata": {},
     "output_type": "display_data"
    },
    {
     "name": "stderr",
     "output_type": "stream",
     "text": [
      "C:\\Users\\dssm3\\AppData\\Local\\Temp\\ipykernel_2956\\3168283102.py:17: FutureWarning: \n",
      "\n",
      "Passing `palette` without assigning `hue` is deprecated and will be removed in v0.14.0. Assign the `x` variable to `hue` and set `legend=False` for the same effect.\n",
      "\n",
      "  sns.countplot(x=df[\"Risk Factor\"], palette=\"coolwarm\")\n"
     ]
    },
    {
     "data": {
      "image/png": "[encoded data removed]",
      "text/plain": [
       "<Figure size 800x400 with 1 Axes>"
      ]
     },
     "metadata": {},
     "output_type": "display_data"
    }
   ],
   "source": [
    "# Exploratory Data Analysis (EDA)\n",
    "plt.figure(figsize=(10, 6))\n",
    "sns.countplot(y=df[\"Primary Cause\"], order=df[\"Primary Cause\"].value_counts().index, palette=\"viridis\")\n",
    "plt.title(\"Distribution of Primary Causes\")\n",
    "plt.xlabel(\"Count\")\n",
    "plt.ylabel(\"Primary Cause\")\n",
    "plt.show()\n",
    "\n",
    "plt.figure(figsize=(10, 6))\n",
    "sns.countplot(y=df[\"Secondary Cause\"], order=df[\"Secondary Cause\"].value_counts().index, palette=\"viridis\")\n",
    "plt.title(\"Distribution of Secondary Cause\")\n",
    "plt.xlabel(\"Count\")\n",
    "plt.ylabel(\"Secondary Cause\")\n",
    "plt.show()\n",
    "\n",
    "plt.figure(figsize=(8, 4))\n",
    "sns.countplot(x=df[\"Risk Factor\"], palette=\"coolwarm\")\n",
    "plt.title(\"Risk Factor Distribution\")\n",
    "plt.xlabel(\"Risk Factor\")\n",
    "plt.ylabel(\"Count\")\n",
    "plt.show()"
   ]
  },
  {
   "cell_type": "markdown",
   "metadata": {},
   "source": [
    "### Text cleaning function"
   ]
  },
  {
   "cell_type": "code",
   "execution_count": 9,
   "metadata": {},
   "outputs": [],
   "source": [
    "def clean_text(text):\n",
    "    text = text.lower() #Converts the entire text to lowercase\n",
    "    text = re.sub(r'[^a-zA-Z0-9\\s]', '', text)  # Uses regular expressions(re.sub) to remove special characters, punctuation, and symbols\n",
    "    tokens = word_tokenize(text) #to split the cleaned text into individual words (tokens).\n",
    "    tokens = [word for word in tokens if word not in stopwords.words('english')] # stop word removal\n",
    "    return ' '.join(tokens) #Joins the remaining tokens back into a single string with spaces between words."
   ]
  },
  {
   "cell_type": "code",
   "execution_count": 10,
   "metadata": {},
   "outputs": [],
   "source": [
    "df['Preprocessed'] = df['Accident Report'].astype(str).apply(clean_text)"
   ]
  },
  {
   "cell_type": "code",
   "execution_count": 11,
   "metadata": {},
   "outputs": [
    {
     "data": {
      "text/html": [
       "<div>\n",
       "<style scoped>\n",
       "    .dataframe tbody tr th:only-of-type {\n",
       "        vertical-align: middle;\n",
       "    }\n",
       "\n",
       "    .dataframe tbody tr th {\n",
       "        vertical-align: top;\n",
       "    }\n",
       "\n",
       "    .dataframe thead th {\n",
       "        text-align: right;\n",
       "    }\n",
       "</style>\n",
       "<table border=\"1\" class=\"dataframe\">\n",
       "  <thead>\n",
       "    <tr style=\"text-align: right;\">\n",
       "      <th></th>\n",
       "      <th>Accident Report</th>\n",
       "      <th>Primary Cause</th>\n",
       "      <th>Secondary Cause</th>\n",
       "      <th>Risk Factor</th>\n",
       "      <th>Preprocessed</th>\n",
       "    </tr>\n",
       "  </thead>\n",
       "  <tbody>\n",
       "    <tr>\n",
       "      <th>0</th>\n",
       "      <td>On 22 Jan 2024, at 06:36 AM, a auto-rickshaw c...</td>\n",
       "      <td>Drunk Driving</td>\n",
       "      <td>NaN</td>\n",
       "      <td>High</td>\n",
       "      <td>22 jan 2024 0636 autorickshaw collided autoric...</td>\n",
       "    </tr>\n",
       "    <tr>\n",
       "      <th>1</th>\n",
       "      <td>On 01 Jan 2024, at 06:23 PM, a two-wheeler col...</td>\n",
       "      <td>Weather Issues</td>\n",
       "      <td>Road Conditions</td>\n",
       "      <td>Moderate</td>\n",
       "      <td>01 jan 2024 0623 pm twowheeler collided truck ...</td>\n",
       "    </tr>\n",
       "    <tr>\n",
       "      <th>2</th>\n",
       "      <td>On 08 Jan 2024, at 03:02 AM, a two-wheeler col...</td>\n",
       "      <td>Weather Issues</td>\n",
       "      <td>Seatbelt Violation</td>\n",
       "      <td>Moderate</td>\n",
       "      <td>08 jan 2024 0302 twowheeler collided car outer...</td>\n",
       "    </tr>\n",
       "    <tr>\n",
       "      <th>3</th>\n",
       "      <td>On 25 Feb 2024, at 12:10 AM, a car collided wi...</td>\n",
       "      <td>Rash Driving</td>\n",
       "      <td>NaN</td>\n",
       "      <td>High</td>\n",
       "      <td>25 feb 2024 1210 car collided bus marine drive...</td>\n",
       "    </tr>\n",
       "    <tr>\n",
       "      <th>4</th>\n",
       "      <td>On 23 Jan 2024, at 08:58 AM, a truck collided ...</td>\n",
       "      <td>Seatbelt Violation</td>\n",
       "      <td>Signal Violation</td>\n",
       "      <td>High</td>\n",
       "      <td>23 jan 2024 0858 truck collided twowheeler out...</td>\n",
       "    </tr>\n",
       "    <tr>\n",
       "      <th>...</th>\n",
       "      <td>...</td>\n",
       "      <td>...</td>\n",
       "      <td>...</td>\n",
       "      <td>...</td>\n",
       "      <td>...</td>\n",
       "    </tr>\n",
       "    <tr>\n",
       "      <th>9995</th>\n",
       "      <td>On 22 Feb 2024, at 11:31 PM, a two-wheeler col...</td>\n",
       "      <td>Weather Issues</td>\n",
       "      <td>NaN</td>\n",
       "      <td>Moderate</td>\n",
       "      <td>22 feb 2024 1131 pm twowheeler collided bus ou...</td>\n",
       "    </tr>\n",
       "    <tr>\n",
       "      <th>9996</th>\n",
       "      <td>On 02 Feb 2024, at 02:47 PM, a auto-rickshaw c...</td>\n",
       "      <td>Road Conditions</td>\n",
       "      <td>NaN</td>\n",
       "      <td>Moderate</td>\n",
       "      <td>02 feb 2024 0247 pm autorickshaw collided car ...</td>\n",
       "    </tr>\n",
       "    <tr>\n",
       "      <th>9997</th>\n",
       "      <td>On 02 Feb 2024, at 11:32 AM, a auto-rickshaw c...</td>\n",
       "      <td>Seatbelt Violation</td>\n",
       "      <td>NaN</td>\n",
       "      <td>High</td>\n",
       "      <td>02 feb 2024 1132 autorickshaw collided bus mar...</td>\n",
       "    </tr>\n",
       "    <tr>\n",
       "      <th>9998</th>\n",
       "      <td>On 19 Jan 2024, at 04:03 AM, a auto-rickshaw c...</td>\n",
       "      <td>Drunk Driving</td>\n",
       "      <td>Helmet Violation</td>\n",
       "      <td>High</td>\n",
       "      <td>19 jan 2024 0403 autorickshaw collided truck m...</td>\n",
       "    </tr>\n",
       "    <tr>\n",
       "      <th>9999</th>\n",
       "      <td>On 11 Jan 2024, at 01:04 PM, a two-wheeler col...</td>\n",
       "      <td>Drunk Driving</td>\n",
       "      <td>NaN</td>\n",
       "      <td>Moderate</td>\n",
       "      <td>11 jan 2024 0104 pm twowheeler collided bus nh...</td>\n",
       "    </tr>\n",
       "  </tbody>\n",
       "</table>\n",
       "<p>10000 rows × 5 columns</p>\n",
       "</div>"
      ],
      "text/plain": [
       "                                        Accident Report       Primary Cause  \\\n",
       "0     On 22 Jan 2024, at 06:36 AM, a auto-rickshaw c...       Drunk Driving   \n",
       "1     On 01 Jan 2024, at 06:23 PM, a two-wheeler col...      Weather Issues   \n",
       "2     On 08 Jan 2024, at 03:02 AM, a two-wheeler col...      Weather Issues   \n",
       "3     On 25 Feb 2024, at 12:10 AM, a car collided wi...        Rash Driving   \n",
       "4     On 23 Jan 2024, at 08:58 AM, a truck collided ...  Seatbelt Violation   \n",
       "...                                                 ...                 ...   \n",
       "9995  On 22 Feb 2024, at 11:31 PM, a two-wheeler col...      Weather Issues   \n",
       "9996  On 02 Feb 2024, at 02:47 PM, a auto-rickshaw c...     Road Conditions   \n",
       "9997  On 02 Feb 2024, at 11:32 AM, a auto-rickshaw c...  Seatbelt Violation   \n",
       "9998  On 19 Jan 2024, at 04:03 AM, a auto-rickshaw c...       Drunk Driving   \n",
       "9999  On 11 Jan 2024, at 01:04 PM, a two-wheeler col...       Drunk Driving   \n",
       "\n",
       "         Secondary Cause Risk Factor  \\\n",
       "0                    NaN        High   \n",
       "1        Road Conditions    Moderate   \n",
       "2     Seatbelt Violation    Moderate   \n",
       "3                    NaN        High   \n",
       "4       Signal Violation        High   \n",
       "...                  ...         ...   \n",
       "9995                 NaN    Moderate   \n",
       "9996                 NaN    Moderate   \n",
       "9997                 NaN        High   \n",
       "9998    Helmet Violation        High   \n",
       "9999                 NaN    Moderate   \n",
       "\n",
       "                                           Preprocessed  \n",
       "0     22 jan 2024 0636 autorickshaw collided autoric...  \n",
       "1     01 jan 2024 0623 pm twowheeler collided truck ...  \n",
       "2     08 jan 2024 0302 twowheeler collided car outer...  \n",
       "3     25 feb 2024 1210 car collided bus marine drive...  \n",
       "4     23 jan 2024 0858 truck collided twowheeler out...  \n",
       "...                                                 ...  \n",
       "9995  22 feb 2024 1131 pm twowheeler collided bus ou...  \n",
       "9996  02 feb 2024 0247 pm autorickshaw collided car ...  \n",
       "9997  02 feb 2024 1132 autorickshaw collided bus mar...  \n",
       "9998  19 jan 2024 0403 autorickshaw collided truck m...  \n",
       "9999  11 jan 2024 0104 pm twowheeler collided bus nh...  \n",
       "\n",
       "[10000 rows x 5 columns]"
      ]
     },
     "execution_count": 11,
     "metadata": {},
     "output_type": "execute_result"
    }
   ],
   "source": [
    "df"
   ]
  },
  {
   "cell_type": "code",
   "execution_count": 12,
   "metadata": {},
   "outputs": [],
   "source": [
    "# Labels to predict  (\"multilabel classiication\")\n",
    "labels = ['Primary Cause', 'Secondary Cause', 'Risk Factor']"
   ]
  },
  {
   "cell_type": "code",
   "execution_count": 13,
   "metadata": {},
   "outputs": [],
   "source": [
    "label_encoders = {}  # Dictionary to store LabelEncoders for each label\n",
    "for label in labels:  # Iterate through each label ('Primary Cause', 'Secondary Cause', 'Risk Factor')\n",
    "    le = LabelEncoder()  # Create a new LabelEncoder instance\n",
    "    df[label] = df[label].astype(str) # Convert label values to strings (ensures no numerical/missing values)\n",
    "    df[label + '_encoded'] = le.fit_transform(df[label])  # Encode the categorical values into numbers\n",
    "    label_encoders[label] = le  # Store the LabelEncoder for future use\n"
   ]
  },
  {
   "cell_type": "code",
   "execution_count": 14,
   "metadata": {},
   "outputs": [],
   "source": [
    "# Save Label Encoders\n",
    "with open('label_encoders.pkl', 'wb') as f:\n",
    "    pickle.dump(label_encoders, f)"
   ]
  },
  {
   "cell_type": "code",
   "execution_count": 15,
   "metadata": {},
   "outputs": [
    {
     "data": {
      "text/html": [
       "<div>\n",
       "<style scoped>\n",
       "    .dataframe tbody tr th:only-of-type {\n",
       "        vertical-align: middle;\n",
       "    }\n",
       "\n",
       "    .dataframe tbody tr th {\n",
       "        vertical-align: top;\n",
       "    }\n",
       "\n",
       "    .dataframe thead th {\n",
       "        text-align: right;\n",
       "    }\n",
       "</style>\n",
       "<table border=\"1\" class=\"dataframe\">\n",
       "  <thead>\n",
       "    <tr style=\"text-align: right;\">\n",
       "      <th></th>\n",
       "      <th>Accident Report</th>\n",
       "      <th>Primary Cause</th>\n",
       "      <th>Secondary Cause</th>\n",
       "      <th>Risk Factor</th>\n",
       "      <th>Preprocessed</th>\n",
       "      <th>Primary Cause_encoded</th>\n",
       "      <th>Secondary Cause_encoded</th>\n",
       "      <th>Risk Factor_encoded</th>\n",
       "    </tr>\n",
       "  </thead>\n",
       "  <tbody>\n",
       "    <tr>\n",
       "      <th>0</th>\n",
       "      <td>On 22 Jan 2024, at 06:36 AM, a auto-rickshaw c...</td>\n",
       "      <td>Drunk Driving</td>\n",
       "      <td>nan</td>\n",
       "      <td>High</td>\n",
       "      <td>22 jan 2024 0636 autorickshaw collided autoric...</td>\n",
       "      <td>0</td>\n",
       "      <td>8</td>\n",
       "      <td>0</td>\n",
       "    </tr>\n",
       "    <tr>\n",
       "      <th>1</th>\n",
       "      <td>On 01 Jan 2024, at 06:23 PM, a two-wheeler col...</td>\n",
       "      <td>Weather Issues</td>\n",
       "      <td>Road Conditions</td>\n",
       "      <td>Moderate</td>\n",
       "      <td>01 jan 2024 0623 pm twowheeler collided truck ...</td>\n",
       "      <td>7</td>\n",
       "      <td>4</td>\n",
       "      <td>1</td>\n",
       "    </tr>\n",
       "    <tr>\n",
       "      <th>2</th>\n",
       "      <td>On 08 Jan 2024, at 03:02 AM, a two-wheeler col...</td>\n",
       "      <td>Weather Issues</td>\n",
       "      <td>Seatbelt Violation</td>\n",
       "      <td>Moderate</td>\n",
       "      <td>08 jan 2024 0302 twowheeler collided car outer...</td>\n",
       "      <td>7</td>\n",
       "      <td>5</td>\n",
       "      <td>1</td>\n",
       "    </tr>\n",
       "    <tr>\n",
       "      <th>3</th>\n",
       "      <td>On 25 Feb 2024, at 12:10 AM, a car collided wi...</td>\n",
       "      <td>Rash Driving</td>\n",
       "      <td>nan</td>\n",
       "      <td>High</td>\n",
       "      <td>25 feb 2024 1210 car collided bus marine drive...</td>\n",
       "      <td>3</td>\n",
       "      <td>8</td>\n",
       "      <td>0</td>\n",
       "    </tr>\n",
       "    <tr>\n",
       "      <th>4</th>\n",
       "      <td>On 23 Jan 2024, at 08:58 AM, a truck collided ...</td>\n",
       "      <td>Seatbelt Violation</td>\n",
       "      <td>Signal Violation</td>\n",
       "      <td>High</td>\n",
       "      <td>23 jan 2024 0858 truck collided twowheeler out...</td>\n",
       "      <td>5</td>\n",
       "      <td>6</td>\n",
       "      <td>0</td>\n",
       "    </tr>\n",
       "    <tr>\n",
       "      <th>...</th>\n",
       "      <td>...</td>\n",
       "      <td>...</td>\n",
       "      <td>...</td>\n",
       "      <td>...</td>\n",
       "      <td>...</td>\n",
       "      <td>...</td>\n",
       "      <td>...</td>\n",
       "      <td>...</td>\n",
       "    </tr>\n",
       "    <tr>\n",
       "      <th>9995</th>\n",
       "      <td>On 22 Feb 2024, at 11:31 PM, a two-wheeler col...</td>\n",
       "      <td>Weather Issues</td>\n",
       "      <td>nan</td>\n",
       "      <td>Moderate</td>\n",
       "      <td>22 feb 2024 1131 pm twowheeler collided bus ou...</td>\n",
       "      <td>7</td>\n",
       "      <td>8</td>\n",
       "      <td>1</td>\n",
       "    </tr>\n",
       "    <tr>\n",
       "      <th>9996</th>\n",
       "      <td>On 02 Feb 2024, at 02:47 PM, a auto-rickshaw c...</td>\n",
       "      <td>Road Conditions</td>\n",
       "      <td>nan</td>\n",
       "      <td>Moderate</td>\n",
       "      <td>02 feb 2024 0247 pm autorickshaw collided car ...</td>\n",
       "      <td>4</td>\n",
       "      <td>8</td>\n",
       "      <td>1</td>\n",
       "    </tr>\n",
       "    <tr>\n",
       "      <th>9997</th>\n",
       "      <td>On 02 Feb 2024, at 11:32 AM, a auto-rickshaw c...</td>\n",
       "      <td>Seatbelt Violation</td>\n",
       "      <td>nan</td>\n",
       "      <td>High</td>\n",
       "      <td>02 feb 2024 1132 autorickshaw collided bus mar...</td>\n",
       "      <td>5</td>\n",
       "      <td>8</td>\n",
       "      <td>0</td>\n",
       "    </tr>\n",
       "    <tr>\n",
       "      <th>9998</th>\n",
       "      <td>On 19 Jan 2024, at 04:03 AM, a auto-rickshaw c...</td>\n",
       "      <td>Drunk Driving</td>\n",
       "      <td>Helmet Violation</td>\n",
       "      <td>High</td>\n",
       "      <td>19 jan 2024 0403 autorickshaw collided truck m...</td>\n",
       "      <td>0</td>\n",
       "      <td>1</td>\n",
       "      <td>0</td>\n",
       "    </tr>\n",
       "    <tr>\n",
       "      <th>9999</th>\n",
       "      <td>On 11 Jan 2024, at 01:04 PM, a two-wheeler col...</td>\n",
       "      <td>Drunk Driving</td>\n",
       "      <td>nan</td>\n",
       "      <td>Moderate</td>\n",
       "      <td>11 jan 2024 0104 pm twowheeler collided bus nh...</td>\n",
       "      <td>0</td>\n",
       "      <td>8</td>\n",
       "      <td>1</td>\n",
       "    </tr>\n",
       "  </tbody>\n",
       "</table>\n",
       "<p>10000 rows × 8 columns</p>\n",
       "</div>"
      ],
      "text/plain": [
       "                                        Accident Report       Primary Cause  \\\n",
       "0     On 22 Jan 2024, at 06:36 AM, a auto-rickshaw c...       Drunk Driving   \n",
       "1     On 01 Jan 2024, at 06:23 PM, a two-wheeler col...      Weather Issues   \n",
       "2     On 08 Jan 2024, at 03:02 AM, a two-wheeler col...      Weather Issues   \n",
       "3     On 25 Feb 2024, at 12:10 AM, a car collided wi...        Rash Driving   \n",
       "4     On 23 Jan 2024, at 08:58 AM, a truck collided ...  Seatbelt Violation   \n",
       "...                                                 ...                 ...   \n",
       "9995  On 22 Feb 2024, at 11:31 PM, a two-wheeler col...      Weather Issues   \n",
       "9996  On 02 Feb 2024, at 02:47 PM, a auto-rickshaw c...     Road Conditions   \n",
       "9997  On 02 Feb 2024, at 11:32 AM, a auto-rickshaw c...  Seatbelt Violation   \n",
       "9998  On 19 Jan 2024, at 04:03 AM, a auto-rickshaw c...       Drunk Driving   \n",
       "9999  On 11 Jan 2024, at 01:04 PM, a two-wheeler col...       Drunk Driving   \n",
       "\n",
       "         Secondary Cause Risk Factor  \\\n",
       "0                    nan        High   \n",
       "1        Road Conditions    Moderate   \n",
       "2     Seatbelt Violation    Moderate   \n",
       "3                    nan        High   \n",
       "4       Signal Violation        High   \n",
       "...                  ...         ...   \n",
       "9995                 nan    Moderate   \n",
       "9996                 nan    Moderate   \n",
       "9997                 nan        High   \n",
       "9998    Helmet Violation        High   \n",
       "9999                 nan    Moderate   \n",
       "\n",
       "                                           Preprocessed  \\\n",
       "0     22 jan 2024 0636 autorickshaw collided autoric...   \n",
       "1     01 jan 2024 0623 pm twowheeler collided truck ...   \n",
       "2     08 jan 2024 0302 twowheeler collided car outer...   \n",
       "3     25 feb 2024 1210 car collided bus marine drive...   \n",
       "4     23 jan 2024 0858 truck collided twowheeler out...   \n",
       "...                                                 ...   \n",
       "9995  22 feb 2024 1131 pm twowheeler collided bus ou...   \n",
       "9996  02 feb 2024 0247 pm autorickshaw collided car ...   \n",
       "9997  02 feb 2024 1132 autorickshaw collided bus mar...   \n",
       "9998  19 jan 2024 0403 autorickshaw collided truck m...   \n",
       "9999  11 jan 2024 0104 pm twowheeler collided bus nh...   \n",
       "\n",
       "      Primary Cause_encoded  Secondary Cause_encoded  Risk Factor_encoded  \n",
       "0                         0                        8                    0  \n",
       "1                         7                        4                    1  \n",
       "2                         7                        5                    1  \n",
       "3                         3                        8                    0  \n",
       "4                         5                        6                    0  \n",
       "...                     ...                      ...                  ...  \n",
       "9995                      7                        8                    1  \n",
       "9996                      4                        8                    1  \n",
       "9997                      5                        8                    0  \n",
       "9998                      0                        1                    0  \n",
       "9999                      0                        8                    1  \n",
       "\n",
       "[10000 rows x 8 columns]"
      ]
     },
     "execution_count": 15,
     "metadata": {},
     "output_type": "execute_result"
    }
   ],
   "source": [
    "df"
   ]
  },
  {
   "cell_type": "markdown",
   "metadata": {},
   "source": [
    "### Feature Engineering: TF-IDF Vectorization"
   ]
  },
  {
   "cell_type": "code",
   "execution_count": 16,
   "metadata": {},
   "outputs": [],
   "source": [
    "tfidf_vectorizer = TfidfVectorizer(max_features=5000) #max_features=5000 ensures that only the top 5000 most important words(based on frequency and relevance) are considered.\n",
    "X_tfidf = tfidf_vectorizer.fit_transform(df['Preprocessed'])\n",
    "\n",
    "\n",
    "# Fits the vectorizer to the preprocessed text and transforms it into a sparse matrix representation.\n",
    "# df['Preprocessed'] contains the cleaned text data.\n",
    "# The output X_tfidf is a matrix of shape (num_documents, num_features), where:\n",
    "# Rows represent accident reports.\n",
    "# Columns represent important words (features)."
   ]
  },
  {
   "cell_type": "code",
   "execution_count": 17,
   "metadata": {},
   "outputs": [],
   "source": [
    "# Save TF-IDF vectorization\n",
    "with open('tfidf_vectorizer.pkl', 'wb') as f:\n",
    "    pickle.dump(tfidf_vectorizer, f)"
   ]
  },
  {
   "cell_type": "markdown",
   "metadata": {},
   "source": [
    "### Feature Engineering: Word2Vec"
   ]
  },
  {
   "cell_type": "code",
   "execution_count": 18,
   "metadata": {},
   "outputs": [],
   "source": [
    "# word2vec_model = api.load(\"glove-wiki-gigaword-100\")\n",
    "# def get_word2vec_embedding(text):\n",
    "#     words = text.split()\n",
    "#     word_vectors = [word2vec_model[word] for word in words if word in word2vec_model]\n",
    "#     if word_vectors:\n",
    "#         return np.mean(word_vectors, axis=0)\n",
    "#     else:\n",
    "#         return np.zeros(100)\n",
    "# X_word2vec = np.array([get_word2vec_embedding(text) for text in df['Preprocessed']])"
   ]
  },
  {
   "cell_type": "markdown",
   "metadata": {},
   "source": [
    "### Feature Engineering: BERT Embeddings"
   ]
  },
  {
   "cell_type": "code",
   "execution_count": 19,
   "metadata": {},
   "outputs": [],
   "source": [
    "# tokenizer = BertTokenizer.from_pretrained(\"bert-base-uncased\")\n",
    "# bert_model = BertModel.from_pretrained(\"bert-base-uncased\")\n",
    "\n",
    "# def get_bert_embedding(text):\n",
    "#     inputs = tokenizer(text, return_tensors=\"pt\", padding=True, truncation=True, max_length=512)\n",
    "#     with torch.no_grad():\n",
    "#         outputs = bert_model(**inputs)\n",
    "#     return outputs.last_hidden_state[:, 0, :].numpy().flatten()\n",
    "\n",
    "# X_bert = np.array([get_bert_embedding(text) for text in df['Preprocessed']])"
   ]
  },
  {
   "cell_type": "markdown",
   "metadata": {},
   "source": [
    "### Split into Training and Testing Sets"
   ]
  },
  {
   "cell_type": "code",
   "execution_count": 20,
   "metadata": {},
   "outputs": [],
   "source": [
    "# Train-Test Split (Ensure labels match features)\n",
    "X_train, X_test, y_train, y_test = train_test_split(\n",
    "    df['Preprocessed'], df[[col + '_encoded' for col in labels]], \n",
    "    test_size=0.2, random_state=42\n",
    ")\n",
    "\n",
    "# Apply TF-IDF transformation\n",
    "tfidf = TfidfVectorizer()\n",
    "X_train_tfidf = tfidf.fit_transform(X_train)\n",
    "X_test_tfidf = tfidf.transform(X_test)\n",
    "\n",
    "# Convert labels to numpy arrays and ensure the shape is correct\n",
    "y_train = y_train.to_numpy()\n",
    "y_test = y_test.to_numpy() #\n"
   ]
  },
  {
   "cell_type": "markdown",
   "metadata": {},
   "source": [
    "## Traditional Models (Logistic Regression, SVM, Random Forest)"
   ]
  },
  {
   "cell_type": "code",
   "execution_count": 21,
   "metadata": {},
   "outputs": [
    {
     "name": "stdout",
     "output_type": "stream",
     "text": [
      "\n",
      "🔹 Training models for Primary Cause 🔹\n",
      "✅ Logistic Regression Performance on Primary Cause:\n",
      "              precision    recall  f1-score   support\n",
      "\n",
      "           0       0.86      0.70      0.77       272\n",
      "           1       0.79      0.74      0.76       254\n",
      "           2       0.74      0.88      0.80       251\n",
      "           3       0.76      0.73      0.74       237\n",
      "           4       0.76      0.78      0.77       251\n",
      "           5       0.85      0.73      0.79       248\n",
      "           6       0.75      0.85      0.79       252\n",
      "           7       0.72      0.78      0.75       235\n",
      "\n",
      "    accuracy                           0.77      2000\n",
      "   macro avg       0.78      0.77      0.77      2000\n",
      "weighted avg       0.78      0.77      0.77      2000\n",
      "\n",
      "✅ SVM Performance on Primary Cause:\n",
      "              precision    recall  f1-score   support\n",
      "\n",
      "           0       0.87      0.72      0.79       272\n",
      "           1       0.83      0.69      0.75       254\n",
      "           2       0.71      0.90      0.79       251\n",
      "           3       0.78      0.69      0.73       237\n",
      "           4       0.74      0.88      0.80       251\n",
      "           5       0.80      0.75      0.77       248\n",
      "           6       0.76      0.83      0.79       252\n",
      "           7       0.74      0.74      0.74       235\n",
      "\n",
      "    accuracy                           0.77      2000\n",
      "   macro avg       0.78      0.77      0.77      2000\n",
      "weighted avg       0.78      0.77      0.77      2000\n",
      "\n",
      "✅ Random Forest Performance on Primary Cause:\n",
      "              precision    recall  f1-score   support\n",
      "\n",
      "           0       0.87      0.71      0.79       272\n",
      "           1       0.81      0.74      0.78       254\n",
      "           2       0.74      0.84      0.79       251\n",
      "           3       0.77      0.80      0.78       237\n",
      "           4       0.77      0.79      0.78       251\n",
      "           5       0.79      0.79      0.79       248\n",
      "           6       0.77      0.86      0.81       252\n",
      "           7       0.79      0.76      0.77       235\n",
      "\n",
      "    accuracy                           0.79      2000\n",
      "   macro avg       0.79      0.79      0.79      2000\n",
      "weighted avg       0.79      0.79      0.79      2000\n",
      "\n",
      "\n",
      "🔹 Training models for Secondary Cause 🔹\n",
      "✅ Logistic Regression Performance on Secondary Cause:\n",
      "              precision    recall  f1-score   support\n",
      "\n",
      "           0       0.50      0.57      0.53       116\n",
      "           1       0.51      0.56      0.53       118\n",
      "           2       0.66      0.49      0.56       138\n",
      "           3       0.53      0.56      0.55       124\n",
      "           4       0.52      0.53      0.53       124\n",
      "           5       0.54      0.58      0.56       118\n",
      "           6       0.58      0.51      0.55       138\n",
      "           7       0.58      0.61      0.59       137\n",
      "           8       1.00      1.00      1.00       987\n",
      "\n",
      "    accuracy                           0.77      2000\n",
      "   macro avg       0.60      0.60      0.60      2000\n",
      "weighted avg       0.78      0.77      0.77      2000\n",
      "\n",
      "✅ SVM Performance on Secondary Cause:\n",
      "              precision    recall  f1-score   support\n",
      "\n",
      "           0       0.53      0.53      0.53       116\n",
      "           1       0.54      0.68      0.60       118\n",
      "           2       0.67      0.51      0.58       138\n",
      "           3       0.54      0.60      0.57       124\n",
      "           4       0.58      0.40      0.48       124\n",
      "           5       0.56      0.53      0.55       118\n",
      "           6       0.59      0.57      0.58       138\n",
      "           7       0.57      0.74      0.64       137\n",
      "           8       1.00      1.00      1.00       987\n",
      "\n",
      "    accuracy                           0.78      2000\n",
      "   macro avg       0.62      0.62      0.61      2000\n",
      "weighted avg       0.78      0.78      0.78      2000\n",
      "\n",
      "✅ Random Forest Performance on Secondary Cause:\n",
      "              precision    recall  f1-score   support\n",
      "\n",
      "           0       0.53      0.62      0.57       116\n",
      "           1       0.51      0.57      0.54       118\n",
      "           2       0.60      0.52      0.56       138\n",
      "           3       0.56      0.52      0.54       124\n",
      "           4       0.50      0.54      0.52       124\n",
      "           5       0.55      0.52      0.53       118\n",
      "           6       0.61      0.54      0.57       138\n",
      "           7       0.57      0.60      0.58       137\n",
      "           8       0.99      0.99      0.99       987\n",
      "\n",
      "    accuracy                           0.77      2000\n",
      "   macro avg       0.60      0.60      0.60      2000\n",
      "weighted avg       0.77      0.77      0.77      2000\n",
      "\n",
      "\n",
      "🔹 Training models for Risk Factor 🔹\n",
      "✅ Logistic Regression Performance on Risk Factor:\n",
      "              precision    recall  f1-score   support\n",
      "\n",
      "           0       0.60      0.00      0.01       618\n",
      "           1       0.69      1.00      0.82      1382\n",
      "\n",
      "    accuracy                           0.69      2000\n",
      "   macro avg       0.65      0.50      0.41      2000\n",
      "weighted avg       0.66      0.69      0.57      2000\n",
      "\n",
      "✅ SVM Performance on Risk Factor:\n",
      "              precision    recall  f1-score   support\n",
      "\n",
      "           0       0.27      0.01      0.02       618\n",
      "           1       0.69      0.99      0.81      1382\n",
      "\n",
      "    accuracy                           0.69      2000\n",
      "   macro avg       0.48      0.50      0.42      2000\n",
      "weighted avg       0.56      0.69      0.57      2000\n",
      "\n",
      "✅ Random Forest Performance on Risk Factor:\n",
      "              precision    recall  f1-score   support\n",
      "\n",
      "           0       0.33      0.04      0.08       618\n",
      "           1       0.69      0.96      0.80      1382\n",
      "\n",
      "    accuracy                           0.68      2000\n",
      "   macro avg       0.51      0.50      0.44      2000\n",
      "weighted avg       0.58      0.68      0.58      2000\n",
      "\n"
     ]
    }
   ],
   "source": [
    "models = {\n",
    "    \"Logistic Regression\": LogisticRegression(max_iter=500),\n",
    "    \"SVM\": SVC(kernel='linear', probability=True),\n",
    "    \"Random Forest\": RandomForestClassifier(n_estimators=100)\n",
    "}\n",
    "\n",
    "for i, label in enumerate(labels):\n",
    "    print(f\"\\n🔹 Training models for {label} 🔹\")\n",
    "    y_train_label = y_train[:, i]  # Extracting the correct column\n",
    "    y_test_label = y_test[:, i]\n",
    "\n",
    "    for name, model in models.items():\n",
    "        model.fit(X_train_tfidf, y_train_label)\n",
    "        y_pred = model.predict(X_test_tfidf)\n",
    "\n",
    "        print(f\"✅ {name} Performance on {label}:\")\n",
    "        print(classification_report(y_test_label, y_pred))\n"
   ]
  },
  {
   "cell_type": "code",
   "execution_count": 22,
   "metadata": {},
   "outputs": [],
   "source": [
    "# from imblearn.over_sampling import SMOTE\n",
    "# from sklearn.preprocessing import LabelEncoder\n",
    "# import numpy as np\n",
    "# import torch\n",
    "# from transformers import BertTokenizer\n",
    "# from torch.utils.data import TensorDataset, DataLoader\n",
    "# from sklearn.model_selection import train_test_split\n",
    "\n",
    "# # Convert labels to a single target variable (e.g., Primary Cause)\n",
    "# label_encoder = LabelEncoder()\n",
    "# labels_encoded = label_encoder.fit_transform(df['Primary Cause'])  # Use only one categorical label\n",
    "\n",
    "# # Apply SMOTE\n",
    "# smote = SMOTE(random_state=42)\n",
    "# X_resampled, labels_resampled = smote.fit_resample(X_tfidf, labels_encoded)\n",
    "\n",
    "# # Convert X_resampled back to text for BERT tokenization\n",
    "# X_resampled_text = tfidf_vectorizer.inverse_transform(X_resampled)\n",
    "# X_resampled_text = [\" \".join(words) for words in X_resampled_text]  # Convert array to string\n",
    "\n",
    "# # Tokenization using BERT Tokenizer\n",
    "# tokenizer = BertTokenizer.from_pretrained(\"bert-base-uncased\")\n",
    "# tokenized_data = tokenizer(\n",
    "#     X_resampled_text, padding=True, truncation=True, max_length=512, return_tensors=\"pt\"\n",
    "# )\n",
    "\n",
    "# input_ids = tokenized_data[\"input_ids\"]\n",
    "# attention_mask = tokenized_data[\"attention_mask\"]\n",
    "\n",
    "# # Convert resampled labels to tensor\n",
    "# labels_tensor = torch.tensor(labels_resampled, dtype=torch.long)\n",
    "\n",
    "# # Train-Test Split\n",
    "# X_train, X_test, y_train, y_test, mask_train, mask_test = train_test_split(\n",
    "#     input_ids, labels_tensor, attention_mask, test_size=0.2, random_state=42, stratify=labels_tensor\n",
    "# )\n",
    "\n",
    "# # Convert to DataLoader\n",
    "# train_dataset = TensorDataset(X_train, mask_train, y_train)\n",
    "# test_dataset = TensorDataset(X_test, mask_test, y_test)\n",
    "\n",
    "# train_loader = DataLoader(train_dataset, batch_size=16, shuffle=True)\n",
    "# test_loader = DataLoader(test_dataset, batch_size=16, shuffle=False)\n"
   ]
  },
  {
   "cell_type": "code",
   "execution_count": 23,
   "metadata": {},
   "outputs": [],
   "source": [
    "\n",
    "\n",
    "# # Load dataset\n",
    "# df = pd.read_csv(\"accident_dataset.csv\")  # Update with actual file path\n",
    "# texts = df[\"Accident Report\"].values\n",
    "# label =df[['Primary Cause', 'Secondary Cause', 'Risk Factor']].values\n",
    "\n",
    "# # Convert text to TF-IDF numerical representation\n",
    "# vectorizer = TfidfVectorizer(max_features=5000)  # Limit feature size\n",
    "# X_tfidf = vectorizer.fit_transform(texts).toarray()\n",
    "\n",
    "# # Apply \n",
    "# X_tfidf_dense = X_tfidf.toarray()  # Convert sparse matrix to dense\n",
    "# smote = SMOTE(random_state=42)\n",
    "# X_resampled, labels_resampled = smote.fit_resample(X_tfidf_dense , labels) \n",
    "\n",
    "label_encoder = LabelEncoder()\n",
    "labels_encoded = label_encoder.fit_transform(df['Risk Factor'])  # Use only one categorical label\n",
    "X_tfidf_dense = np.array(X_tfidf)  # Ensure it's a NumPy array\n",
    "smote = SMOTE(random_state=42) #SMOTE (Synthetic Minority Over-sampling Technique) \n",
    "X_resampled, labels_resampled = smote.fit_resample(X_tfidf, labels_encoded)\n",
    "\n",
    "\n",
    "# Convert X_resampled back to text for BERT tokenization\n",
    "X_resampled_text = tfidf_vectorizer.inverse_transform(X_resampled)\n",
    "X_resampled_text = [\" \".join(words) for words in X_resampled_text]  # Convert array to string\n",
    "\n",
    "# Tokenization using BERT Tokenizer\n",
    "tokenizer = BertTokenizer.from_pretrained(\"bert-base-uncased\")\n",
    "tokenized_data = tokenizer(\n",
    "    X_resampled_text, padding=True, truncation=True, max_length=512, return_tensors=\"pt\"\n",
    ")\n",
    "\n",
    "input_ids = tokenized_data[\"input_ids\"]  # PyTorch tensors\n",
    "attention_mask = tokenized_data[\"attention_mask\"] # PyTorch tensors\n",
    "from sklearn.preprocessing import LabelEncoder\n",
    "\n",
    "# Convert labels to integers\n",
    "label_encoder = LabelEncoder()\n",
    "labels_resampled = label_encoder.fit_transform(labels_resampled)  # Encodes text labels into integers\n",
    "\n",
    "# Convert to PyTorch tensor\n",
    "labels_tensor = torch.tensor(labels_resampled, dtype=torch.long)  #Converts labels into PyTorch tensors for model training.\n",
    "\n",
    "# Train-Test Split\n",
    "X_train, X_test, y_train, y_test, mask_train, mask_test = train_test_split(\n",
    "    input_ids, labels_tensor, attention_mask, test_size=0.2, random_state=42, stratify=labels_tensor\n",
    ")  # mask_train, mask_test: Attention masks (tells BERT which tokens to focus on).\n",
    "\n",
    "# Convert to DataLoader\n",
    "train_dataset = TensorDataset(X_train, mask_train, y_train)\n",
    "test_dataset = TensorDataset(X_test, mask_test, y_test)\n",
    "\n",
    "train_loader = DataLoader(train_dataset, batch_size=16, shuffle=True)#batch_size=16: Uses batches of 16 samples at a time (for efficiency).\n",
    "test_loader = DataLoader(test_dataset, batch_size=16, shuffle=False)\n",
    "\n",
    "# shuffle=True (training) ensures randomness in each epoch.\n",
    "# shuffle=False (testing) keeps data in the same order for evaluation."
   ]
  },
  {
   "cell_type": "code",
   "execution_count": 24,
   "metadata": {},
   "outputs": [
    {
     "name": "stderr",
     "output_type": "stream",
     "text": [
      "C:\\Users\\dssm3\\AppData\\Local\\Temp\\ipykernel_2956\\2115925054.py:10: FutureWarning: \n",
      "\n",
      "Passing `palette` without assigning `hue` is deprecated and will be removed in v0.14.0. Assign the `x` variable to `hue` and set `legend=False` for the same effect.\n",
      "\n",
      "  sns.barplot(x=unique, y=counts, palette=\"viridis\")\n"
     ]
    },
    {
     "data": {
      "image/png": "[encoded data removed]",
      "text/plain": [
       "<Figure size 800x600 with 1 Axes>"
      ]
     },
     "metadata": {},
     "output_type": "display_data"
    }
   ],
   "source": [
    "import matplotlib.pyplot as plt\n",
    "import seaborn as sns\n",
    "import numpy as np\n",
    "\n",
    "# Count occurrences of each class after SMOTE\n",
    "unique, counts = np.unique(labels_resampled, return_counts=True)\n",
    "\n",
    "# Plot the distribution\n",
    "plt.figure(figsize=(8, 6))\n",
    "sns.barplot(x=unique, y=counts, palette=\"viridis\")\n",
    "plt.xlabel(\"Class Labels\")\n",
    "plt.ylabel(\"Frequency\")\n",
    "plt.title(\"Class Distribution After SMOTE\")\n",
    "plt.show()\n"
   ]
  },
  {
   "cell_type": "code",
   "execution_count": 25,
   "metadata": {},
   "outputs": [
    {
     "name": "stdout",
     "output_type": "stream",
     "text": [
      "Epoch 1/5, Loss: 0.5113\n",
      "Epoch 2/5, Loss: 0.4478\n",
      "Epoch 3/5, Loss: 0.4435\n",
      "Epoch 4/5, Loss: 0.4443\n",
      "Epoch 5/5, Loss: 0.4427\n"
     ]
    }
   ],
   "source": [
    "#---------------------- LSTM Model ----------------------\n",
    "class LSTMClassifier(nn.Module):\n",
    "    def __init__(self, vocab_size, embedding_dim, hidden_dim, output_dim, dropout=0.5):\n",
    "        super(LSTMClassifier, self).__init__()\n",
    "        self.embedding = nn.Embedding(vocab_size, embedding_dim)\n",
    "        self.lstm = nn.LSTM(embedding_dim, hidden_dim, batch_first=True, bidirectional=True)\n",
    "        self.fc = nn.Linear(hidden_dim * 2, output_dim)\n",
    "        self.dropout = nn.Dropout(dropout)\n",
    "    def forward(self, x):\n",
    "        embedded = self.embedding(x)\n",
    "        lstm_out, _ = self.lstm(embedded)\n",
    "        out = self.fc(self.dropout(lstm_out[:, -1, :]))\n",
    "        return out\n",
    "\n",
    "# vocab_size: Number of unique words in the vocabulary (30522 for BERT's tokenizer).\n",
    "# embedding_dim: Size of each word vector (128 in this case).\n",
    "# hidden_dim: Number of hidden units in the LSTM layer (256).\n",
    "# output_dim: Number of possible output classes (categories for classification).\n",
    "# dropout: Reduces overfitting by randomly turning off neurons (set to 0.5).\n",
    "\n",
    "\n",
    "# Define LSTM model parameters\n",
    "lstm_model = LSTMClassifier(vocab_size=30522, embedding_dim=128, hidden_dim=256, output_dim=len(set(labels)))\n",
    "lstm_criterion = nn.CrossEntropyLoss()\n",
    "lstm_optimizer = optim.Adam(lstm_model.parameters(), lr=1e-3)\n",
    "\n",
    "\n",
    "# Training loop for LSTM\n",
    "def train_lstm(model, dataloader, criterion, optimizer, epochs=5):\n",
    "    model.train()\n",
    "    for epoch in range(epochs):\n",
    "        total_loss = 0\n",
    "        for inputs, _, labels in dataloader:\n",
    "            inputs, labels = inputs.to(torch.long), labels.to(torch.long)  # Ensure proper dtype\n",
    "            optimizer.zero_grad()\n",
    "            outputs = model(inputs)\n",
    "            loss = criterion(outputs, labels)\n",
    "            loss.backward()\n",
    "            optimizer.step()\n",
    "            total_loss += loss.item()\n",
    "        print(f\"Epoch {epoch+1}/{epochs}, Loss: {total_loss/len(dataloader):.4f}\")\n",
    "\n",
    "train_lstm(lstm_model, train_loader, lstm_criterion, lstm_optimizer)"
   ]
  },
  {
   "cell_type": "code",
   "execution_count": 26,
   "metadata": {},
   "outputs": [
    {
     "name": "stdout",
     "output_type": "stream",
     "text": [
      "Epoch 1/3, Loss: 0.4651\n",
      "Epoch 2/3, Loss: 0.4474\n",
      "Epoch 3/3, Loss: 0.4436\n"
     ]
    }
   ],
   "source": [
    "# ---------------------- BERT Model ----------------------\n",
    "class BERTClassifier(nn.Module):\n",
    "    def __init__(self, bert_model, output_dim, dropout=0.3):\n",
    "        super(BERTClassifier, self).__init__()\n",
    "        self.bert = bert_model\n",
    "        self.fc = nn.Linear(768, output_dim)\n",
    "        self.dropout = nn.Dropout(dropout)\n",
    "\n",
    "    def forward(self, input_ids, attention_mask):\n",
    "        outputs = self.bert(input_ids=input_ids, attention_mask=attention_mask)\n",
    "        return self.fc(self.dropout(outputs.last_hidden_state[:, 0, :]))\n",
    "\n",
    "# Load BERT model\n",
    "bert_model = BertModel.from_pretrained(\"bert-base-uncased\")\n",
    "bert_classifier = BERTClassifier(bert_model, output_dim=len(set(labels)))\n",
    "\n",
    "# Define loss and optimizer for BERT\n",
    "bert_criterion = nn.CrossEntropyLoss()\n",
    "bert_optimizer = optim.Adam(bert_classifier.parameters(), lr=2e-5)\n",
    "\n",
    "# Training loop for BERT\n",
    "def train_bert(model, dataloader, criterion, optimizer, epochs=3):\n",
    "    model.train()\n",
    "    for epoch in range(epochs):\n",
    "        total_loss = 0\n",
    "        for input_ids, attention_mask, labels in dataloader:\n",
    "            input_ids, attention_mask, labels = (\n",
    "                input_ids.to(torch.long), \n",
    "                attention_mask.to(torch.long), \n",
    "                labels.to(torch.long)\n",
    "            )\n",
    "            optimizer.zero_grad()\n",
    "            outputs = model(input_ids, attention_mask)\n",
    "            loss = criterion(outputs, labels)\n",
    "            loss.backward()\n",
    "            optimizer.step()\n",
    "            total_loss += loss.item()\n",
    "        print(f\"Epoch {epoch+1}/{epochs}, Loss: {total_loss/len(dataloader):.4f}\")\n",
    "\n",
    "train_bert(bert_classifier, train_loader, bert_criterion, bert_optimizer)"
   ]
  },
  {
   "cell_type": "code",
   "execution_count": 27,
   "metadata": {},
   "outputs": [],
   "source": [
    "# ---------------------- Model Evaluation ----------------------\n",
    "def evaluate_model(model, dataloader, model_type=\"LSTM\"):\n",
    "    model.eval()\n",
    "    all_preds, all_labels = [], []\n",
    "\n",
    "    with torch.no_grad():\n",
    "        for input_ids, attention_mask, labels in dataloader:\n",
    "            input_ids, attention_mask, labels = (\n",
    "                input_ids.to(torch.long), \n",
    "                attention_mask.to(torch.long), \n",
    "                labels.to(torch.long)\n",
    "            )\n",
    "\n",
    "            if model_type == \"BERT\":\n",
    "                outputs = model(input_ids, attention_mask)\n",
    "            else:\n",
    "                outputs = model(input_ids)\n",
    "\n",
    "            preds = torch.argmax(outputs, dim=1).cpu().numpy()\n",
    "            all_preds.extend(preds)\n",
    "            all_labels.extend(labels.cpu().numpy())\n",
    "\n",
    "    acc = accuracy_score(all_labels, all_preds)\n",
    "    f1 = f1_score(all_labels, all_preds, average=\"weighted\")\n",
    "    print(f\"\\n{model_type} Model Performance:\\nAccuracy: {acc:.4f}, F1 Score: {f1:.4f}\")\n",
    "    print(classification_report(all_labels, all_preds))\n"
   ]
  },
  {
   "cell_type": "code",
   "execution_count": 28,
   "metadata": {},
   "outputs": [
    {
     "name": "stdout",
     "output_type": "stream",
     "text": [
      "\n",
      "LSTM Model Performance:\n",
      "Accuracy: 0.7936, F1 Score: 0.7844\n",
      "              precision    recall  f1-score   support\n",
      "\n",
      "           0       1.00      0.59      0.74      1400\n",
      "           1       0.71      1.00      0.83      1400\n",
      "\n",
      "    accuracy                           0.79      2800\n",
      "   macro avg       0.85      0.79      0.78      2800\n",
      "weighted avg       0.85      0.79      0.78      2800\n",
      "\n"
     ]
    }
   ],
   "source": [
    "# Evaluate LSTM\n",
    "evaluate_model(lstm_model, test_loader, model_type=\"LSTM\")"
   ]
  },
  {
   "cell_type": "code",
   "execution_count": 29,
   "metadata": {},
   "outputs": [
    {
     "name": "stdout",
     "output_type": "stream",
     "text": [
      "\n",
      "BERT Model Performance:\n",
      "Accuracy: 0.7936, F1 Score: 0.7844\n",
      "              precision    recall  f1-score   support\n",
      "\n",
      "           0       1.00      0.59      0.74      1400\n",
      "           1       0.71      1.00      0.83      1400\n",
      "\n",
      "    accuracy                           0.79      2800\n",
      "   macro avg       0.85      0.79      0.78      2800\n",
      "weighted avg       0.85      0.79      0.78      2800\n",
      "\n"
     ]
    }
   ],
   "source": [
    "# Evaluate BERT\n",
    "evaluate_model(bert_classifier, test_loader, model_type=\"BERT\")"
   ]
  },
  {
   "cell_type": "code",
   "execution_count": 34,
   "metadata": {},
   "outputs": [
    {
     "name": "stderr",
     "output_type": "stream",
     "text": [
      "Some weights of BertForSequenceClassification were not initialized from the model checkpoint at bert-base-uncased and are newly initialized: ['classifier.bias', 'classifier.weight']\n",
      "You should probably TRAIN this model on a down-stream task to be able to use it for predictions and inference.\n"
     ]
    },
    {
     "name": "stdout",
     "output_type": "stream",
     "text": [
      "✅ Model saved at bert_model.pth\n"
     ]
    }
   ],
   "source": [
    "import torch\n",
    "from transformers import BertForSequenceClassification\n",
    "\n",
    "model = BertForSequenceClassification.from_pretrained(\"bert-base-uncased\", num_labels=7)  # Example BERT model\n",
    "MODEL_SAVE_PATH = \"bert_model.pth\"\n",
    "\n",
    "torch.save(model.state_dict(), MODEL_SAVE_PATH)  # Save only model weights\n",
    "print(f\"✅ Model saved at {MODEL_SAVE_PATH}\")\n"
   ]
  },
  {
   "cell_type": "code",
   "execution_count": 35,
   "metadata": {},
   "outputs": [
    {
     "name": "stderr",
     "output_type": "stream",
     "text": [
      "Some weights of BertForSequenceClassification were not initialized from the model checkpoint at bert-base-uncased and are newly initialized: ['classifier.bias', 'classifier.weight']\n",
      "You should probably TRAIN this model on a down-stream task to be able to use it for predictions and inference.\n"
     ]
    },
    {
     "name": "stdout",
     "output_type": "stream",
     "text": [
      "✅ Model loaded successfully and ready for inference!\n"
     ]
    }
   ],
   "source": [
    "import torch\n",
    "from transformers import BertForSequenceClassification\n",
    "\n",
    "# Define model architecture (must match the saved model)\n",
    "model = BertForSequenceClassification.from_pretrained(\"bert-base-uncased\", num_labels=7)  # Ensure same num_labels\n",
    "\n",
    "# Load saved weights\n",
    "MODEL_SAVE_PATH = \"bert_model.pth\"\n",
    "model.load_state_dict(torch.load(MODEL_SAVE_PATH, map_location=torch.device(\"cpu\")))\n",
    "\n",
    "# Put the model in evaluation mode\n",
    "model.eval()\n",
    "\n",
    "print(\"✅ Model loaded successfully and ready for inference!\")\n"
   ]
  },
  {
   "cell_type": "code",
   "execution_count": 39,
   "metadata": {},
   "outputs": [
    {
     "name": "stdout",
     "output_type": "stream",
     "text": [
      "🔹 Logits: tensor([[-0.3200, -0.5335,  0.3298,  0.0367, -0.2124,  0.9106,  0.4587]])\n",
      "\n",
      "🔹 Accident Report Analysis 🔹\n",
      "Primary Cause: Signal Violation\n",
      "Secondary Cause: Car passengers not wearing seatbelts\n",
      "Risk Factor: Moderate\n"
     ]
    }
   ],
   "source": [
    "import torch\n",
    "\n",
    "def predict_accident_details(report, model, tokenizer):\n",
    "    try:\n",
    "        # Tokenize input\n",
    "        inputs = tokenizer(report, return_tensors=\"pt\", truncation=True, padding=True, max_length=512)\n",
    "        inputs = {key: value.to(model.device) for key, value in inputs.items()}  # Move to model device\n",
    "\n",
    "        # Ensure model is in evaluation mode\n",
    "        model.eval()\n",
    "\n",
    "        # Get predictions without gradient tracking\n",
    "        with torch.no_grad():\n",
    "            outputs = model(**inputs)\n",
    "\n",
    "        # Debugging: Print logits\n",
    "        print(\"🔹 Logits:\", outputs.logits)\n",
    "\n",
    "        # Get predicted class\n",
    "        predicted_class = torch.argmax(outputs.logits, dim=1).item()\n",
    "\n",
    "        # Define class labels\n",
    "        primary_causes = [\"Rash Driving\", \"Weather Issues\", \"Road Conditions\", \"Helmet Violation\", \n",
    "                          \"Seatbelt Violation\", \"Signal Violation\", \"Pedestrian Negligence\"]\n",
    "        secondary_causes = [\"DUI-related accident\", \"Over speeding and reckless maneuvering\", \"Heavy rain, fog, or slippery roads\",\n",
    "                            \"Potholes, construction work, or lack of signs\", \"Two-wheeler rider not wearing a helmet\",\n",
    "                            \"Car passengers not wearing seatbelts\", \"Jumping red lights or ignoring stop signs\",\n",
    "                            \"Jaywalking or crossing in unsafe zones\"]\n",
    "\n",
    "        # Map risk factor (since we only have two categories)\n",
    "        risk_factors = [\"High\", \"Moderate\"]\n",
    "        risk_mapping = {0: \"High\", 1: \"High\", 2: \"High\", 3: \"Moderate\", 4: \"Moderate\", 5: \"Moderate\", 6: \"Moderate\"}\n",
    "\n",
    "        return {\n",
    "            \"Primary Cause\": primary_causes[predicted_class] if predicted_class < len(primary_causes) else \"Unknown\",\n",
    "            \"Secondary Cause\": secondary_causes[predicted_class] if predicted_class < len(secondary_causes) else \"Unknown\",\n",
    "            \"Risk Factor\": risk_mapping.get(predicted_class, \"Unknown\")  # Proper mapping\n",
    "        }\n",
    "\n",
    "    except Exception as e:\n",
    "        print(f\"❌ Error: {e}\")\n",
    "        return {\"Primary Cause\": \"Unknown\", \"Secondary Cause\": \"Unknown\", \"Risk Factor\": \"Unknown\"}\n",
    "\n",
    "# Example Test\n",
    "sample_report = \"On 02 Feb 2024, at 12:16 AM, a truck collided with a two-wheeler at MG Road, Bangalore. Two-wheeler rider not wearing a helmet,Helmet Violation,None,Moderate\"\n",
    "\n",
    "# Ensure model and tokenizer are loaded before calling\n",
    "predicted_details = predict_accident_details(sample_report, model, tokenizer)\n",
    "\n",
    "print(\"\\n🔹 Accident Report Analysis 🔹\")\n",
    "for key, value in predicted_details.items():\n",
    "    print(f\"{key}: {value}\")\n"
   ]
  },
  {
   "cell_type": "code",
   "execution_count": null,
   "metadata": {},
   "outputs": [],
   "source": []
  }
 ],
 "metadata": {
  "kernelspec": {
   "display_name": "base",
   "language": "python",
   "name": "python3"
  },
  "language_info": {
   "codemirror_mode": {
    "name": "ipython",
    "version": 3
   },
   "file_extension": ".py",
   "mimetype": "text/x-python",
   "name": "python",
   "nbconvert_exporter": "python",
   "pygments_lexer": "ipython3",
   "version": "3.12.7"
  }
 },
 "nbformat": 4,
 "nbformat_minor": 2
}
